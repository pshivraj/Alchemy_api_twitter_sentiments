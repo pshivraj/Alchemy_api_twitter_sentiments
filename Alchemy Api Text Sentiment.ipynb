{
 "cells": [
  {
   "cell_type": "markdown",
   "metadata": {},
   "source": [
    "\n",
    "## __Alchemy Api setup__<img src=\"http://www.alchemyapi.com/sites/default/files/Logo60Height.png\" width=350, height=300 align=right>\n",
    "\n",
    "1. Get free alchemy API from :http://www.alchemyapi.com/api/register.html (1000 hits per day)\n",
    "2. To clone the SDK to your computer, open up a terminal window and type the following commands:\n",
    "    - mkdir -p ~/src/test\n",
    "    - cd ~/src/test\n",
    "    - git clone https://github.com/AlchemyAPI/alchemyapi_python.git\n",
    "    - cd alchemyapi_python/\n"
   ]
  },
  {
   "cell_type": "markdown",
   "metadata": {},
   "source": [
    "__Configure the Python SDK to use your API Key__\n"
   ]
  },
  {
   "cell_type": "code",
   "execution_count": null,
   "metadata": {
    "collapsed": false
   },
   "outputs": [],
   "source": [
    "import os"
   ]
  },
  {
   "cell_type": "code",
   "execution_count": null,
   "metadata": {
    "collapsed": false
   },
   "outputs": [],
   "source": [
    "os.chdir('/Users/shivraj/Alchemy_API/test/alchemyapi_python')"
   ]
  },
  {
   "cell_type": "code",
   "execution_count": null,
   "metadata": {
    "collapsed": true
   },
   "outputs": [],
   "source": [
    "from alchemyapi import AlchemyAPI\n",
    "python alchemyapi.py YOUR_API_KEY"
   ]
  },
  {
   "cell_type": "code",
   "execution_count": null,
   "metadata": {
    "collapsed": false
   },
   "outputs": [],
   "source": [
    "alchemyapi = AlchemyAPI()"
   ]
  },
  {
   "cell_type": "code",
   "execution_count": null,
   "metadata": {
    "collapsed": true
   },
   "outputs": [],
   "source": [
    "import csv\n",
    "import pandas as pd"
   ]
  },
  {
   "cell_type": "code",
   "execution_count": null,
   "metadata": {
    "collapsed": false
   },
   "outputs": [],
   "source": [
    "df = pd.read_csv('/Users/shivraj/Alchemy_API/test/alchemyapi_python/tweets_alchemy_testing_1000.csv',encoding = \"ISO-8859-1\")"
   ]
  },
  {
   "cell_type": "code",
   "execution_count": null,
   "metadata": {
    "collapsed": true
   },
   "outputs": [],
   "source": [
    "df_test = []"
   ]
  },
  {
   "cell_type": "markdown",
   "metadata": {},
   "source": [
    "## Looping over the first 1000 instances to get sentiment score {-1 to 1} and overall sentiment {positive,neutral,negative}"
   ]
  },
  {
   "cell_type": "code",
   "execution_count": null,
   "metadata": {
    "collapsed": false
   },
   "outputs": [],
   "source": [
    "##i=0\n",
    "while i < 1000:\n",
    "    myText = df['tweet'][i:1000]\n",
    "    docsent = {}\n",
    "    for sentence in myText:\n",
    "     test = {}\n",
    "     response = alchemyapi.sentiment(\"text\", sentence)\n",
    "     docsent=response.get(\"docSentiment\",{})\n",
    "     test['type']=   docsent.get(\"type\",None)\n",
    "     test['score']=  docsent.get(\"score\",None)\n",
    "     test['tweet'] = sentence\n",
    "     df_test.append(test)\n",
    "     i=i+1"
   ]
  },
  {
   "cell_type": "code",
   "execution_count": null,
   "metadata": {
    "collapsed": false
   },
   "outputs": [],
   "source": [
    "len(df_test)"
   ]
  },
  {
   "cell_type": "markdown",
   "metadata": {},
   "source": [
    "## Writing the resulting sentiments "
   ]
  },
  {
   "cell_type": "code",
   "execution_count": null,
   "metadata": {
    "collapsed": true
   },
   "outputs": [],
   "source": [
    "if len(df_test) > 0:\n",
    "    with open('tweets_classified_alchemy_testing_1000.csv', 'w') as f:\n",
    "        fieldnames = [ k for k in df_test[0].keys() ]\n",
    "        writer = csv.DictWriter(f,fieldnames=fieldnames,lineterminator='\\n')\n",
    "        writer.writeheader()\n",
    "        for h in df_test:\n",
    "            writer.writerow(h)"
   ]
  }
 ],
 "metadata": {
  "anaconda-cloud": {},
  "kernelspec": {
   "display_name": "Python [conda root]",
   "language": "python",
   "name": "conda-root-py"
  },
  "language_info": {
   "codemirror_mode": {
    "name": "ipython",
    "version": 3
   },
   "file_extension": ".py",
   "mimetype": "text/x-python",
   "name": "python",
   "nbconvert_exporter": "python",
   "pygments_lexer": "ipython3",
   "version": "3.5.2"
  }
 },
 "nbformat": 4,
 "nbformat_minor": 1
}
